{
 "cells": [
  {
   "cell_type": "code",
   "execution_count": null,
   "metadata": {},
   "outputs": [],
   "source": [
    "height = float(input(\"Enter height in meters: \"))\n",
    "weight = float(input(\"Enter weight in kg: \"))\n",
    "\n",
    "BMI = weight/(height**2)\n",
    "print(\"Your BMI is : \", BMI)\n",
    "if (BMI <= 16):\n",
    "    print(\"You are severely underweight\")\n",
    "elif(BMI <=18.5):\n",
    "        print(\"You are underweight\")\n",
    "elif(BMI <=25):\n",
    "        print(\"Your health is normal\")\n",
    "elif(BMI <=30):\n",
    "        print(\"You are overweight\")\n",
    "elif(BMI <=35):\n",
    "        print(\"You are moderately obese\")\n",
    "elif(BMI <=40):\n",
    "        print(\"You are severly obese\")\n",
    "elif(BMI >40):\n",
    "        print(\"You are very severly obese\")\n",
    "else:\n",
    "        print(\"Enter valid details\")"
   ]
  },
  {
   "cell_type": "code",
   "execution_count": null,
   "metadata": {},
   "outputs": [],
   "source": []
  }
 ],
 "metadata": {
  "kernelspec": {
   "display_name": "Python 3",
   "language": "python",
   "name": "python3"
  },
  "language_info": {
   "codemirror_mode": {
    "name": "ipython",
    "version": 3
   },
   "file_extension": ".py",
   "mimetype": "text/x-python",
   "name": "python",
   "nbconvert_exporter": "python",
   "pygments_lexer": "ipython3",
   "version": "3.8.3"
  }
 },
 "nbformat": 4,
 "nbformat_minor": 4
}
