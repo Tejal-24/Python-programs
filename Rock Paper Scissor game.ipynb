{
 "cells": [
  {
   "cell_type": "code",
   "execution_count": 8,
   "metadata": {},
   "outputs": [
    {
     "name": "stdout",
     "output_type": "stream",
     "text": [
      "Select from : Rock, Paper, ScissorRock\n",
      "Tie\n",
      "Select from : Rock, Paper, ScissorScissor\n",
      "You lose...\n",
      "Select from : Rock, Paper, ScissorPaper\n",
      "You win....\n",
      "Select from : Rock, Paper, ScissorScissor\n",
      "You lose...\n",
      "Select from : Rock, Paper, Scissorpaper\n",
      "Select from : Rock, Paper, ScissorPaper\n",
      "You win....\n",
      "Select from : Rock, Paper, ScissorStop\n",
      "Player score is :  2\n",
      "Computer score is :  2\n"
     ]
    }
   ],
   "source": [
    "import random\n",
    "\n",
    "choices = ['Rock', 'Paper', 'Scissor']\n",
    "computer = random.choice(choices)\n",
    "comp_score = 0\n",
    "player_score = 0\n",
    "player = False\n",
    "\n",
    "while True:\n",
    "    player = input(\"Select from : Rock, Paper, Scissor\")\n",
    "    if player == computer:\n",
    "        print(\"Tie\")\n",
    "    elif player == 'Rock':\n",
    "        if computer == 'Paper':\n",
    "                print(\"You lose...\")\n",
    "                comp_score +=1\n",
    "        else :\n",
    "                    print(\"You win...\")\n",
    "                    player_score +=1\n",
    "                    \n",
    "    elif player == 'Paper':\n",
    "        if computer == 'Rock':\n",
    "                print(\"You win....\")\n",
    "                player_score +=1\n",
    "        else:\n",
    "                    print(\"You lose...\")\n",
    "                    comp_score +=1\n",
    "    elif player == 'Scissor':\n",
    "        if computer == 'Rock':\n",
    "                print(\"You lose...\")\n",
    "                comp_score +=1\n",
    "        else:\n",
    "                    print(\"You win...\")\n",
    "                    player_score +=1\n",
    "                    \n",
    "    elif player == 'Stop':\n",
    "            print(\"Player score is : \",player_score)\n",
    "            print(\"Computer score is : \", comp_score)\n",
    "            break"
   ]
  },
  {
   "cell_type": "code",
   "execution_count": null,
   "metadata": {},
   "outputs": [],
   "source": []
  }
 ],
 "metadata": {
  "kernelspec": {
   "display_name": "Python 3",
   "language": "python",
   "name": "python3"
  },
  "language_info": {
   "codemirror_mode": {
    "name": "ipython",
    "version": 3
   },
   "file_extension": ".py",
   "mimetype": "text/x-python",
   "name": "python",
   "nbconvert_exporter": "python",
   "pygments_lexer": "ipython3",
   "version": "3.8.3"
  }
 },
 "nbformat": 4,
 "nbformat_minor": 4
}
